{
 "cells": [
  {
   "cell_type": "code",
   "execution_count": null,
   "metadata": {},
   "outputs": [],
   "source": [
    "import pandas as pd"
   ]
  },
  {
   "cell_type": "code",
   "execution_count": null,
   "metadata": {},
   "outputs": [],
   "source": [
    "datafile_path = \"college_data.csv\"\n",
    "datafile_df =pd.read_csv(datafile_path)\n",
    "# datafile_df.head()"
   ]
  },
  {
   "cell_type": "code",
   "execution_count": null,
   "metadata": {},
   "outputs": [],
   "source": [
    "school_df = datafile_df.loc[:,[\"Year\",\"College_names\",\"College_state\",\"In_state_tuition\",\"Out_of_state_tuition\",\"Admissions_rate_overall\",\"Enrollment\",\"Student Size\"]]\n",
    "\n",
    "\n",
    "school_df_sorted = school_df.sort_values([\"College_names\",\"Year\"],ascending = (True))\n",
    "school_df.head()"
   ]
  },
  {
   "cell_type": "code",
   "execution_count": null,
   "metadata": {},
   "outputs": [],
   "source": [
    "# school_df.dtypes"
   ]
  },
  {
   "cell_type": "code",
   "execution_count": null,
   "metadata": {},
   "outputs": [],
   "source": [
    "# Converting the \"Cocoa Percent\" column to floats\n",
    "school_df[\"Year\"] = school_df[\"Year\"].astype('object')\n",
    "school_df.dtypes"
   ]
  },
  {
   "cell_type": "code",
   "execution_count": null,
   "metadata": {},
   "outputs": [],
   "source": [
    "# school_df[\"College_names\"] = school_df[\"College_names\"].replace(\n",
    "#     '\"', '', regex=True)\n",
    "\n",
    "school_df[[\"College_names\",\"College_state\"]] = school_df[[\"College_names\",\"College_state\"]].replace(\n",
    "    '\"', '', regex=True)\n",
    "school_df.head()"
   ]
  },
  {
   "cell_type": "code",
   "execution_count": null,
   "metadata": {},
   "outputs": [],
   "source": [
    "# print(school_df[\"College_names\"].unique())\n",
    "school_df.head()"
   ]
  },
  {
   "cell_type": "code",
   "execution_count": null,
   "metadata": {},
   "outputs": [],
   "source": [
    "# Individual School DataFrames\n",
    "\n",
    "# wsu_df = school_df.loc[school_df[\"College_names\"]==\"Washington State University\",:]\n",
    "# uoa_df = school_df.loc[school_df[\"College_names\"]==\"University of Arizona\",:]\n",
    "# asu_df = school_df.loc[school_df[\"College_names\"]==\"Arizona State University-Tempe\",:]\n",
    "# uc_berkeley_df = school_df.loc[school_df[\"College_names\"]==\"University of California-Berkeley\",:]\n",
    "# ucla_df = school_df.loc[school_df[\"College_names\"]==\"University of California-Los Angeles\",:]\n",
    "# ucb_df = school_df.loc[school_df[\"College_names\"]==\"University of Colorado Boulder\",:]\n",
    "# uoo_df = school_df.loc[school_df[\"College_names\"]==\"University of Oregon\",:]\n",
    "# osu_df = school_df.loc[school_df[\"College_names\"]==\"Oregon State University\",:]\n",
    "# usc_df = school_df.loc[school_df[\"College_names\"]==\"University of Southern California\",:]\n",
    "# stanford_df = school_df.loc[school_df[\"College_names\"]==\"Stanford University\",:]\n",
    "# uou_df = school_df.loc[school_df[\"College_names\"]==\"University of Utah\",:]\n",
    "# uow_df = school_df.loc[school_df[\"College_names\"]==\"University of Washington-Seattle Campus\",:]\n"
   ]
  },
  {
   "cell_type": "code",
   "execution_count": null,
   "metadata": {},
   "outputs": [],
   "source": [
    "school_df[\"Difference in tuition\"]=school_df[\"Out_of_state_tuition\"]-school_df[\"In_state_tuition\"]\n",
    "\n",
    "school_df[\"Percent Difference Change\"]=school_df[\"Difference in tuition\"]/school_df[\"Out_of_state_tuition\"]\n",
    "\n",
    "\n",
    "school_df=school_df[['Year','College_names','College_state','In_state_tuition',\\\n",
    "                     'Out_of_state_tuition','Difference in tuition','Percent Difference Change'\\\n",
    "                    ,'Enrollment','Student Size','Admissions_rate_overall']]\n",
    "\n",
    "clean_school_df = school_df.rename(columns={'Year':'Year',\\\n",
    "                                            'College_names':'College_Names',\\\n",
    "                                            'College_state':'State',\\\n",
    "                                            'In_state_tuition':'In_State_Tuition',\\\n",
    "                                            'Out_of_state_tuition':'Out_of_State_Tuition',\\\n",
    "                                            'Difference in tuition':'Tuition_Difference',\\\n",
    "                                            'Percent Difference Change': '%_Difference',\\\n",
    "                                            'Student Size':'Student_Size',\\\n",
    "                                            'Admissions_rate_overall':\"Admission_%\"})\n",
    "clean_school_df.head()"
   ]
  },
  {
   "cell_type": "code",
   "execution_count": null,
   "metadata": {},
   "outputs": [],
   "source": [
    "avg_in_state = clean_school_df.groupby(['College Names']).mean()['In State Tuition'].rename(\"Avg In State Tuition\") \n",
    "# avg_in_state.head(25)\n",
    "avg_in_state_year = clean_school_df.groupby(['Year']).mean()['In State Tuition'].rename(\"Avg In State Tuition by Year\")\n",
    "# avg_in_state_year.head(25)\n",
    "avg_out_of_state = clean_school_df.groupby(['College Names']).mean()['Out of State Tuition'].rename(\"Avg Out of State Tuition\") \n",
    "# avg_out_of_state.head(25)\n",
    "avg_out_of_state_year = clean_school_df.groupby(['Year']).mean()['Out of State Tuition'].rename(\"Avg Out of State Tuition by Year\")\n",
    "# avg_in_state_year.head(25)\n",
    "\n",
    "tuition_avgs_by_school = pd.DataFrame({\"Avg In State Tuition\":avg_in_state,\n",
    "                                        \"Avg Out of State Tuition\": avg_out_of_state,})\n",
    "\n",
    "\n",
    "\n",
    "tuition_avgs_by_school['Avg In State Tuition'] = tuition_avgs_by_school['Avg In State Tuition'].map('${:,.2f}'.format)\n",
    "tuition_avgs_by_school['Avg Out of State Tuition'] = tuition_avgs_by_school['Avg Out of State Tuition'].map('${:,.2f}'.format)\n",
    "tuition_avgs_by_school\n",
    "\n"
   ]
  },
  {
   "cell_type": "code",
   "execution_count": null,
   "metadata": {},
   "outputs": [],
   "source": [
    "tuition_avgs_by_year = pd.DataFrame({\"Avg In State Tuition by Year\": avg_in_state_year,\n",
    "\"Avg Out of State Tuition by Year\":avg_out_of_state_year})\n",
    "\n",
    "tuition_avgs_by_year[\"Avg In State Tuition by Year\"] = tuition_avgs_by_year[\"Avg In State Tuition by Year\"].map('${:,.2f}'.format)\n",
    "tuition_avgs_by_year[\"Avg Out of State Tuition by Year\"] = tuition_avgs_by_year[\"Avg Out of State Tuition by Year\"].map('${:,.2f}'.format)\n",
    "tuition_avgs_by_year"
   ]
  },
  {
   "cell_type": "code",
   "execution_count": null,
   "metadata": {},
   "outputs": [],
   "source": []
  }
 ],
 "metadata": {
  "kernelspec": {
   "display_name": "Python 3",
   "language": "python",
   "name": "python3"
  },
  "language_info": {
   "codemirror_mode": {
    "name": "ipython",
    "version": 3
   },
   "file_extension": ".py",
   "mimetype": "text/x-python",
   "name": "python",
   "nbconvert_exporter": "python",
   "pygments_lexer": "ipython3",
   "version": "3.6.10"
  }
 },
 "nbformat": 4,
 "nbformat_minor": 4
}
